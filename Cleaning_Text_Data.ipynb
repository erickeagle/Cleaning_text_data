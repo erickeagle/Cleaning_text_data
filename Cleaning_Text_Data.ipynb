{
 "cells": [
  {
   "cell_type": "markdown",
   "id": "5aa899a3",
   "metadata": {},
   "source": [
    "# Cleaning the Text Data using Pandas and sklearn library\n",
    "\n",
    "#### Objective\n",
    "Learn how we can clean any data having text field in the dataset\n",
    "\n",
    "\n",
    "#### Procedure\n",
    "1.\tUnderstand Problem Statement and Data \n",
    "2.\tLoad the packages and data \n",
    "3.  Cleaning the text data\n",
    "4.  Summary\n",
    "5.  What to do Next?\n",
    " \n",
    "\n",
    "#### Understand Problem Statement and Data\n",
    "The first step we will be understanding the problem we want to solve and looking at each column in the dataset to understand them.\n",
    "\n",
    "#### Problem Statement\n",
    "Using this dataset, we are going to learn how we can clean text data.\n",
    "\n",
    "\n",
    "\n",
    "#### The Dataset Information:\n",
    "\n",
    "Plot summary descriptions scraped from Wikipedia\n",
    "\n",
    "Content\n",
    "The dataset contains descriptions of 34,886 movies from around the world. Column descriptions are listed below:\n",
    "\n",
    "Release Year - Year in which the movie was released\n",
    "Title - Movie title\n",
    "Origin/Ethnicity - Origin of movie (i.e. American, Bollywood, Tamil, etc.)\n",
    "Director - Director(s)\n",
    "Plot - Main actor and actresses\n",
    "Genre - Movie Genre(s)\n",
    "Wiki Page - URL of the Wikipedia page from which the plot description was scraped\n",
    "Plot - Long form description of movie plot (WARNING: May contain spoilers!!!)\n",
    "\n"
   ]
  },
  {
   "cell_type": "markdown",
   "id": "2739ee9c",
   "metadata": {},
   "source": [
    "# Importing libraries & Loading the dataset"
   ]
  },
  {
   "cell_type": "code",
   "execution_count": 24,
   "id": "53fc8a7c",
   "metadata": {},
   "outputs": [],
   "source": [
    "import pandas as pd\n",
    "import pandas as pd\n",
    "import numpy as np\n",
    "import matplotlib.pyplot as plt\n",
    "import seaborn as sns\n",
    "import re\n",
    "import warnings\n",
    "warnings.filterwarnings(\"ignore\")\n",
    "\n",
    "import nltk"
   ]
  },
  {
   "cell_type": "code",
   "execution_count": 25,
   "id": "dc7fab58",
   "metadata": {},
   "outputs": [
    {
     "name": "stdout",
     "output_type": "stream",
     "text": [
      "Wall time: 898 ms\n"
     ]
    }
   ],
   "source": [
    "%%time\n",
    "df=pd.read_csv('wiki_movie_plots_deduped.csv')"
   ]
  },
  {
   "cell_type": "markdown",
   "id": "3ef49e66",
   "metadata": {},
   "source": [
    "## Looking into the data specially in plot column which we are ging to clean"
   ]
  },
  {
   "cell_type": "code",
   "execution_count": 26,
   "id": "9c8f107a",
   "metadata": {},
   "outputs": [
    {
     "name": "stdout",
     "output_type": "stream",
     "text": [
      "<class 'pandas.core.frame.DataFrame'>\n",
      "RangeIndex: 34886 entries, 0 to 34885\n",
      "Data columns (total 8 columns):\n",
      " #   Column            Non-Null Count  Dtype \n",
      "---  ------            --------------  ----- \n",
      " 0   Release Year      34886 non-null  int64 \n",
      " 1   Title             34886 non-null  object\n",
      " 2   Origin/Ethnicity  34886 non-null  object\n",
      " 3   Director          34886 non-null  object\n",
      " 4   Cast              33464 non-null  object\n",
      " 5   Genre             34886 non-null  object\n",
      " 6   Wiki Page         34886 non-null  object\n",
      " 7   Plot              34886 non-null  object\n",
      "dtypes: int64(1), object(7)\n",
      "memory usage: 2.1+ MB\n"
     ]
    }
   ],
   "source": [
    "df.info()"
   ]
  },
  {
   "cell_type": "code",
   "execution_count": 27,
   "id": "b49886b8",
   "metadata": {
    "scrolled": true
   },
   "outputs": [
    {
     "data": {
      "text/plain": [
       "0        A bartender is working at a saloon, serving dr...\n",
       "1        The moon, painted with a smiling face hangs ov...\n",
       "2        The film, just over a minute long, is composed...\n",
       "3        Lasting just 61 seconds and consisting of two ...\n",
       "4        The earliest known adaptation of the classic f...\n",
       "                               ...                        \n",
       "34881    The film begins in 1919, just after World War ...\n",
       "34882    Two musicians, Salih and Gürkan, described the...\n",
       "34883    Zafer, a sailor living with his mother Döndü i...\n",
       "34884    The film centres around a young woman named Am...\n",
       "34885    The writer Orhan Şahin returns to İstanbul aft...\n",
       "Name: Plot, Length: 34886, dtype: object"
      ]
     },
     "execution_count": 27,
     "metadata": {},
     "output_type": "execute_result"
    }
   ],
   "source": [
    "df['Plot']"
   ]
  },
  {
   "cell_type": "markdown",
   "id": "c9ec729f",
   "metadata": {},
   "source": [
    "# Cleaning the text feild"
   ]
  },
  {
   "cell_type": "markdown",
   "id": "a627298f",
   "metadata": {},
   "source": [
    "### Replacing the '\\r' and '\\n' with blank spaces using key value pair"
   ]
  },
  {
   "cell_type": "code",
   "execution_count": 28,
   "id": "796125d4",
   "metadata": {},
   "outputs": [],
   "source": [
    "replace_dict={\n",
    "    \"\\r\": \" \",\n",
    "    \"\\n\":\" \",\n",
    "}\n",
    "\n",
    "for key,items in replace_dict.items():\n",
    "    df['Plot_1']= df['Plot'].str.replace(key,items)"
   ]
  },
  {
   "cell_type": "markdown",
   "id": "dd854ed4",
   "metadata": {},
   "source": [
    "### Removing the Numbers from the text feild"
   ]
  },
  {
   "cell_type": "code",
   "execution_count": 29,
   "id": "834ee6b7",
   "metadata": {},
   "outputs": [
    {
     "name": "stdout",
     "output_type": "stream",
     "text": [
      "Wall time: 498 ms\n"
     ]
    }
   ],
   "source": [
    "%%time\n",
    "df['Plot_1']=df['Plot_1'].apply(lambda x: re.sub(r'[0-9]', ' ',x))"
   ]
  },
  {
   "cell_type": "markdown",
   "id": "252d60c8",
   "metadata": {},
   "source": [
    "### List of punctuations\n",
    "We are using the string.punctuation to get the list of punctations and replacing each of these punctuation symbols from each of the rows of the text data"
   ]
  },
  {
   "cell_type": "code",
   "execution_count": 30,
   "id": "1315f859",
   "metadata": {},
   "outputs": [
    {
     "data": {
      "text/plain": [
       "'!\"#$%&\\'()*+,-./:;<=>?@[\\\\]^_`{|}~'"
      ]
     },
     "execution_count": 30,
     "metadata": {},
     "output_type": "execute_result"
    }
   ],
   "source": [
    "import string\n",
    "string.punctuation"
   ]
  },
  {
   "cell_type": "markdown",
   "id": "d05a61f8",
   "metadata": {},
   "source": [
    "### Removing the Punctations"
   ]
  },
  {
   "cell_type": "code",
   "execution_count": 31,
   "id": "433a5e62",
   "metadata": {},
   "outputs": [
    {
     "name": "stdout",
     "output_type": "stream",
     "text": [
      "Wall time: 11.5 s\n"
     ]
    }
   ],
   "source": [
    "%%time\n",
    "def remove_punctuation(text):\n",
    "    return ''.join([words.lower() for words in text if words not in string.punctuation])\n",
    "\n",
    "df['plot_without_punct']=df['Plot_1'].apply(lambda x: remove_punctuation(x))"
   ]
  },
  {
   "cell_type": "markdown",
   "id": "b41557a0",
   "metadata": {},
   "source": [
    "### Tokenizing the words\n",
    "Tokenization is the process of breaking down a phrase, sentence, paragraph, or even an entire text document into smaller components like individual words or phrases. Tokens are the names given to each of these smaller units. Words, numerals, or punctuation marks could be used as tokens.\n",
    "\n",
    "#### What is the need for tokenization in NLP?\n",
    "I'd like you to consider the English language in this situation. Pick any sentence that comes to you and keep it in mind as you read this section. This will make it much easier for you to grasp the significance of tokenization.\n",
    "\n",
    "We must first identify the words that make up a string of letters before we can process natural language. As a result, tokenization is the most fundamental step in the NLP process (text data). This is significant because the text's meaning may be easily deduced by examining the words in the text."
   ]
  },
  {
   "cell_type": "code",
   "execution_count": 32,
   "id": "cd67a222",
   "metadata": {},
   "outputs": [
    {
     "name": "stdout",
     "output_type": "stream",
     "text": [
      "Wall time: 36.7 s\n"
     ]
    }
   ],
   "source": [
    "%%time\n",
    "def tokenization(text):\n",
    "    return nltk.tokenize.word_tokenize(text)\n",
    "\n",
    "df['plot_tokenized']=df['plot_without_punct'].apply(lambda x: tokenization(x))"
   ]
  },
  {
   "cell_type": "markdown",
   "id": "5ec3965e",
   "metadata": {},
   "source": [
    "### Removing the Stopwords\n",
    "Any term in a stop list that is filtered out before or after natural language data processing is referred to as a stop word. There is no standardised list of stop words used by all natural language processing tools, nor are there any agreed-upon methods for detecting stop words, and not all programmes even utilise one.\n",
    "We are using the nltk library for removing the stopwards from the text field"
   ]
  },
  {
   "cell_type": "code",
   "execution_count": 33,
   "id": "48b858a4",
   "metadata": {},
   "outputs": [
    {
     "name": "stdout",
     "output_type": "stream",
     "text": [
      "Wall time: 18.4 s\n"
     ]
    }
   ],
   "source": [
    "%%time \n",
    "stopwords = nltk.corpus.stopwords.words('english')\n",
    "def stopwards(words):\n",
    "    return [i for i in words if i not in stopwords]\n",
    "\n",
    "df['plot_tokenized_removed_sw']=df['plot_tokenized'].apply(lambda x: stopwards(x))"
   ]
  },
  {
   "cell_type": "markdown",
   "id": "e8f788cd",
   "metadata": {},
   "source": [
    "### Lemmatization\n",
    "Lemmatization usually refers to doing things correctly using a vocabulary and morphological study of words, with the goal of removing only inflectional endings and returning the base or dictionary form of a word, known as the lemma.\n",
    "\n",
    "What is the difference between lemmatization and stemming?\n",
    "\n",
    "At get to the stem of the word, a portion of the word is simply sliced off at the end. Different methods are employed to determine how many letters must be removed, however the algorithms do not understand the meaning of the word in the language it belongs to. The algorithms in lemmatization, on the other hand, have this knowledge. In fact, you could argue that these algorithms consult a dictionary to figure out what a word means before reducing it to its root word, or lemma.\n",
    "As a result, a lemmatization algorithm would recognise that better is derived from good, and hence the lemme is good."
   ]
  },
  {
   "cell_type": "code",
   "execution_count": 34,
   "id": "83ef304e",
   "metadata": {},
   "outputs": [
    {
     "name": "stdout",
     "output_type": "stream",
     "text": [
      "Wall time: 26.4 s\n"
     ]
    }
   ],
   "source": [
    "%%time \n",
    "lemma= nltk.WordNetLemmatizer()\n",
    "def lemmatization(words):\n",
    "    return ' '.join([lemma.lemmatize(word) for word in words])\n",
    "\n",
    "df['plot_lemma']=df['plot_tokenized_removed_sw'].apply(lambda x: lemmatization(x))"
   ]
  },
  {
   "cell_type": "code",
   "execution_count": 35,
   "id": "b70e1aa8",
   "metadata": {},
   "outputs": [
    {
     "data": {
      "text/html": [
       "<div>\n",
       "<style scoped>\n",
       "    .dataframe tbody tr th:only-of-type {\n",
       "        vertical-align: middle;\n",
       "    }\n",
       "\n",
       "    .dataframe tbody tr th {\n",
       "        vertical-align: top;\n",
       "    }\n",
       "\n",
       "    .dataframe thead th {\n",
       "        text-align: right;\n",
       "    }\n",
       "</style>\n",
       "<table border=\"1\" class=\"dataframe\">\n",
       "  <thead>\n",
       "    <tr style=\"text-align: right;\">\n",
       "      <th></th>\n",
       "      <th>Release Year</th>\n",
       "      <th>Title</th>\n",
       "      <th>Origin/Ethnicity</th>\n",
       "      <th>Director</th>\n",
       "      <th>Cast</th>\n",
       "      <th>Genre</th>\n",
       "      <th>Wiki Page</th>\n",
       "      <th>Plot</th>\n",
       "      <th>Plot_1</th>\n",
       "      <th>plot_without_punct</th>\n",
       "      <th>plot_tokenized</th>\n",
       "      <th>plot_tokenized_removed_sw</th>\n",
       "      <th>plot_lemma</th>\n",
       "    </tr>\n",
       "  </thead>\n",
       "  <tbody>\n",
       "    <tr>\n",
       "      <th>0</th>\n",
       "      <td>1901</td>\n",
       "      <td>Kansas Saloon Smashers</td>\n",
       "      <td>American</td>\n",
       "      <td>Unknown</td>\n",
       "      <td>NaN</td>\n",
       "      <td>unknown</td>\n",
       "      <td>https://en.wikipedia.org/wiki/Kansas_Saloon_Sm...</td>\n",
       "      <td>A bartender is working at a saloon, serving dr...</td>\n",
       "      <td>A bartender is working at a saloon, serving dr...</td>\n",
       "      <td>a bartender is working at a saloon serving dri...</td>\n",
       "      <td>[a, bartender, is, working, at, a, saloon, ser...</td>\n",
       "      <td>[bartender, working, saloon, serving, drinks, ...</td>\n",
       "      <td>bartender working saloon serving drink custome...</td>\n",
       "    </tr>\n",
       "    <tr>\n",
       "      <th>1</th>\n",
       "      <td>1901</td>\n",
       "      <td>Love by the Light of the Moon</td>\n",
       "      <td>American</td>\n",
       "      <td>Unknown</td>\n",
       "      <td>NaN</td>\n",
       "      <td>unknown</td>\n",
       "      <td>https://en.wikipedia.org/wiki/Love_by_the_Ligh...</td>\n",
       "      <td>The moon, painted with a smiling face hangs ov...</td>\n",
       "      <td>The moon, painted with a smiling face hangs ov...</td>\n",
       "      <td>the moon painted with a smiling face hangs ove...</td>\n",
       "      <td>[the, moon, painted, with, a, smiling, face, h...</td>\n",
       "      <td>[moon, painted, smiling, face, hangs, park, ni...</td>\n",
       "      <td>moon painted smiling face hang park night youn...</td>\n",
       "    </tr>\n",
       "    <tr>\n",
       "      <th>2</th>\n",
       "      <td>1901</td>\n",
       "      <td>The Martyred Presidents</td>\n",
       "      <td>American</td>\n",
       "      <td>Unknown</td>\n",
       "      <td>NaN</td>\n",
       "      <td>unknown</td>\n",
       "      <td>https://en.wikipedia.org/wiki/The_Martyred_Pre...</td>\n",
       "      <td>The film, just over a minute long, is composed...</td>\n",
       "      <td>The film, just over a minute long, is composed...</td>\n",
       "      <td>the film just over a minute long is composed o...</td>\n",
       "      <td>[the, film, just, over, a, minute, long, is, c...</td>\n",
       "      <td>[film, minute, long, composed, two, shots, fir...</td>\n",
       "      <td>film minute long composed two shot first girl ...</td>\n",
       "    </tr>\n",
       "    <tr>\n",
       "      <th>3</th>\n",
       "      <td>1901</td>\n",
       "      <td>Terrible Teddy, the Grizzly King</td>\n",
       "      <td>American</td>\n",
       "      <td>Unknown</td>\n",
       "      <td>NaN</td>\n",
       "      <td>unknown</td>\n",
       "      <td>https://en.wikipedia.org/wiki/Terrible_Teddy,_...</td>\n",
       "      <td>Lasting just 61 seconds and consisting of two ...</td>\n",
       "      <td>Lasting just    seconds and consisting of two ...</td>\n",
       "      <td>lasting just    seconds and consisting of two ...</td>\n",
       "      <td>[lasting, just, seconds, and, consisting, of, ...</td>\n",
       "      <td>[lasting, seconds, consisting, two, shots, fir...</td>\n",
       "      <td>lasting second consisting two shot first shot ...</td>\n",
       "    </tr>\n",
       "    <tr>\n",
       "      <th>4</th>\n",
       "      <td>1902</td>\n",
       "      <td>Jack and the Beanstalk</td>\n",
       "      <td>American</td>\n",
       "      <td>George S. Fleming, Edwin S. Porter</td>\n",
       "      <td>NaN</td>\n",
       "      <td>unknown</td>\n",
       "      <td>https://en.wikipedia.org/wiki/Jack_and_the_Bea...</td>\n",
       "      <td>The earliest known adaptation of the classic f...</td>\n",
       "      <td>The earliest known adaptation of the classic f...</td>\n",
       "      <td>the earliest known adaptation of the classic f...</td>\n",
       "      <td>[the, earliest, known, adaptation, of, the, cl...</td>\n",
       "      <td>[earliest, known, adaptation, classic, fairyta...</td>\n",
       "      <td>earliest known adaptation classic fairytale fi...</td>\n",
       "    </tr>\n",
       "    <tr>\n",
       "      <th>...</th>\n",
       "      <td>...</td>\n",
       "      <td>...</td>\n",
       "      <td>...</td>\n",
       "      <td>...</td>\n",
       "      <td>...</td>\n",
       "      <td>...</td>\n",
       "      <td>...</td>\n",
       "      <td>...</td>\n",
       "      <td>...</td>\n",
       "      <td>...</td>\n",
       "      <td>...</td>\n",
       "      <td>...</td>\n",
       "      <td>...</td>\n",
       "    </tr>\n",
       "    <tr>\n",
       "      <th>34881</th>\n",
       "      <td>2014</td>\n",
       "      <td>The Water Diviner</td>\n",
       "      <td>Turkish</td>\n",
       "      <td>Director: Russell Crowe</td>\n",
       "      <td>Director: Russell Crowe\\r\\nCast: Russell Crowe...</td>\n",
       "      <td>unknown</td>\n",
       "      <td>https://en.wikipedia.org/wiki/The_Water_Diviner</td>\n",
       "      <td>The film begins in 1919, just after World War ...</td>\n",
       "      <td>The film begins in     , just after World War ...</td>\n",
       "      <td>the film begins in      just after world war i...</td>\n",
       "      <td>[the, film, begins, in, just, after, world, wa...</td>\n",
       "      <td>[film, begins, world, war, ended, centres, aro...</td>\n",
       "      <td>film begin world war ended centre around joshu...</td>\n",
       "    </tr>\n",
       "    <tr>\n",
       "      <th>34882</th>\n",
       "      <td>2017</td>\n",
       "      <td>Çalgı Çengi İkimiz</td>\n",
       "      <td>Turkish</td>\n",
       "      <td>Selçuk Aydemir</td>\n",
       "      <td>Ahmet Kural, Murat Cemcir</td>\n",
       "      <td>comedy</td>\n",
       "      <td>https://en.wikipedia.org/wiki/%C3%87alg%C4%B1_...</td>\n",
       "      <td>Two musicians, Salih and Gürkan, described the...</td>\n",
       "      <td>Two musicians, Salih and Gürkan, described the...</td>\n",
       "      <td>two musicians salih and gürkan described the a...</td>\n",
       "      <td>[two, musicians, salih, and, gürkan, described...</td>\n",
       "      <td>[two, musicians, salih, gürkan, described, adv...</td>\n",
       "      <td>two musician salih gürkan described adventure ...</td>\n",
       "    </tr>\n",
       "    <tr>\n",
       "      <th>34883</th>\n",
       "      <td>2017</td>\n",
       "      <td>Olanlar Oldu</td>\n",
       "      <td>Turkish</td>\n",
       "      <td>Hakan Algül</td>\n",
       "      <td>Ata Demirer, Tuvana Türkay, Ülkü Duru</td>\n",
       "      <td>comedy</td>\n",
       "      <td>https://en.wikipedia.org/wiki/Olanlar_Oldu</td>\n",
       "      <td>Zafer, a sailor living with his mother Döndü i...</td>\n",
       "      <td>Zafer, a sailor living with his mother Döndü i...</td>\n",
       "      <td>zafer a sailor living with his mother döndü in...</td>\n",
       "      <td>[zafer, a, sailor, living, with, his, mother, ...</td>\n",
       "      <td>[zafer, sailor, living, mother, döndü, coastal...</td>\n",
       "      <td>zafer sailor living mother döndü coastal villa...</td>\n",
       "    </tr>\n",
       "    <tr>\n",
       "      <th>34884</th>\n",
       "      <td>2017</td>\n",
       "      <td>Non-Transferable</td>\n",
       "      <td>Turkish</td>\n",
       "      <td>Brendan Bradley</td>\n",
       "      <td>YouTubers Shanna Malcolm, Shira Lazar, Sara Fl...</td>\n",
       "      <td>romantic comedy</td>\n",
       "      <td>https://en.wikipedia.org/wiki/Non-Transferable...</td>\n",
       "      <td>The film centres around a young woman named Am...</td>\n",
       "      <td>The film centres around a young woman named Am...</td>\n",
       "      <td>the film centres around a young woman named am...</td>\n",
       "      <td>[the, film, centres, around, a, young, woman, ...</td>\n",
       "      <td>[film, centres, around, young, woman, named, a...</td>\n",
       "      <td>film centre around young woman named amy tyler...</td>\n",
       "    </tr>\n",
       "    <tr>\n",
       "      <th>34885</th>\n",
       "      <td>2017</td>\n",
       "      <td>İstanbul Kırmızısı</td>\n",
       "      <td>Turkish</td>\n",
       "      <td>Ferzan Özpetek</td>\n",
       "      <td>Halit Ergenç, Tuba Büyüküstün, Mehmet Günsür, ...</td>\n",
       "      <td>romantic</td>\n",
       "      <td>https://en.wikipedia.org/wiki/%C4%B0stanbul_K%...</td>\n",
       "      <td>The writer Orhan Şahin returns to İstanbul aft...</td>\n",
       "      <td>The writer Orhan Şahin returns to İstanbul aft...</td>\n",
       "      <td>the writer orhan şahin returns to i̇stanbul af...</td>\n",
       "      <td>[the, writer, orhan, şahin, returns, to, i̇sta...</td>\n",
       "      <td>[writer, orhan, şahin, returns, i̇stanbul, man...</td>\n",
       "      <td>writer orhan şahin return i̇stanbul many year ...</td>\n",
       "    </tr>\n",
       "  </tbody>\n",
       "</table>\n",
       "<p>34886 rows × 13 columns</p>\n",
       "</div>"
      ],
      "text/plain": [
       "       Release Year                             Title Origin/Ethnicity  \\\n",
       "0              1901            Kansas Saloon Smashers         American   \n",
       "1              1901     Love by the Light of the Moon         American   \n",
       "2              1901           The Martyred Presidents         American   \n",
       "3              1901  Terrible Teddy, the Grizzly King         American   \n",
       "4              1902            Jack and the Beanstalk         American   \n",
       "...             ...                               ...              ...   \n",
       "34881          2014                 The Water Diviner          Turkish   \n",
       "34882          2017                Çalgı Çengi İkimiz          Turkish   \n",
       "34883          2017                      Olanlar Oldu          Turkish   \n",
       "34884          2017                  Non-Transferable          Turkish   \n",
       "34885          2017                İstanbul Kırmızısı          Turkish   \n",
       "\n",
       "                                 Director  \\\n",
       "0                                 Unknown   \n",
       "1                                 Unknown   \n",
       "2                                 Unknown   \n",
       "3                                 Unknown   \n",
       "4      George S. Fleming, Edwin S. Porter   \n",
       "...                                   ...   \n",
       "34881             Director: Russell Crowe   \n",
       "34882                      Selçuk Aydemir   \n",
       "34883                         Hakan Algül   \n",
       "34884                     Brendan Bradley   \n",
       "34885                      Ferzan Özpetek   \n",
       "\n",
       "                                                    Cast            Genre  \\\n",
       "0                                                    NaN          unknown   \n",
       "1                                                    NaN          unknown   \n",
       "2                                                    NaN          unknown   \n",
       "3                                                    NaN          unknown   \n",
       "4                                                    NaN          unknown   \n",
       "...                                                  ...              ...   \n",
       "34881  Director: Russell Crowe\\r\\nCast: Russell Crowe...          unknown   \n",
       "34882                          Ahmet Kural, Murat Cemcir           comedy   \n",
       "34883              Ata Demirer, Tuvana Türkay, Ülkü Duru           comedy   \n",
       "34884  YouTubers Shanna Malcolm, Shira Lazar, Sara Fl...  romantic comedy   \n",
       "34885  Halit Ergenç, Tuba Büyüküstün, Mehmet Günsür, ...         romantic   \n",
       "\n",
       "                                               Wiki Page  \\\n",
       "0      https://en.wikipedia.org/wiki/Kansas_Saloon_Sm...   \n",
       "1      https://en.wikipedia.org/wiki/Love_by_the_Ligh...   \n",
       "2      https://en.wikipedia.org/wiki/The_Martyred_Pre...   \n",
       "3      https://en.wikipedia.org/wiki/Terrible_Teddy,_...   \n",
       "4      https://en.wikipedia.org/wiki/Jack_and_the_Bea...   \n",
       "...                                                  ...   \n",
       "34881    https://en.wikipedia.org/wiki/The_Water_Diviner   \n",
       "34882  https://en.wikipedia.org/wiki/%C3%87alg%C4%B1_...   \n",
       "34883         https://en.wikipedia.org/wiki/Olanlar_Oldu   \n",
       "34884  https://en.wikipedia.org/wiki/Non-Transferable...   \n",
       "34885  https://en.wikipedia.org/wiki/%C4%B0stanbul_K%...   \n",
       "\n",
       "                                                    Plot  \\\n",
       "0      A bartender is working at a saloon, serving dr...   \n",
       "1      The moon, painted with a smiling face hangs ov...   \n",
       "2      The film, just over a minute long, is composed...   \n",
       "3      Lasting just 61 seconds and consisting of two ...   \n",
       "4      The earliest known adaptation of the classic f...   \n",
       "...                                                  ...   \n",
       "34881  The film begins in 1919, just after World War ...   \n",
       "34882  Two musicians, Salih and Gürkan, described the...   \n",
       "34883  Zafer, a sailor living with his mother Döndü i...   \n",
       "34884  The film centres around a young woman named Am...   \n",
       "34885  The writer Orhan Şahin returns to İstanbul aft...   \n",
       "\n",
       "                                                  Plot_1  \\\n",
       "0      A bartender is working at a saloon, serving dr...   \n",
       "1      The moon, painted with a smiling face hangs ov...   \n",
       "2      The film, just over a minute long, is composed...   \n",
       "3      Lasting just    seconds and consisting of two ...   \n",
       "4      The earliest known adaptation of the classic f...   \n",
       "...                                                  ...   \n",
       "34881  The film begins in     , just after World War ...   \n",
       "34882  Two musicians, Salih and Gürkan, described the...   \n",
       "34883  Zafer, a sailor living with his mother Döndü i...   \n",
       "34884  The film centres around a young woman named Am...   \n",
       "34885  The writer Orhan Şahin returns to İstanbul aft...   \n",
       "\n",
       "                                      plot_without_punct  \\\n",
       "0      a bartender is working at a saloon serving dri...   \n",
       "1      the moon painted with a smiling face hangs ove...   \n",
       "2      the film just over a minute long is composed o...   \n",
       "3      lasting just    seconds and consisting of two ...   \n",
       "4      the earliest known adaptation of the classic f...   \n",
       "...                                                  ...   \n",
       "34881  the film begins in      just after world war i...   \n",
       "34882  two musicians salih and gürkan described the a...   \n",
       "34883  zafer a sailor living with his mother döndü in...   \n",
       "34884  the film centres around a young woman named am...   \n",
       "34885  the writer orhan şahin returns to i̇stanbul af...   \n",
       "\n",
       "                                          plot_tokenized  \\\n",
       "0      [a, bartender, is, working, at, a, saloon, ser...   \n",
       "1      [the, moon, painted, with, a, smiling, face, h...   \n",
       "2      [the, film, just, over, a, minute, long, is, c...   \n",
       "3      [lasting, just, seconds, and, consisting, of, ...   \n",
       "4      [the, earliest, known, adaptation, of, the, cl...   \n",
       "...                                                  ...   \n",
       "34881  [the, film, begins, in, just, after, world, wa...   \n",
       "34882  [two, musicians, salih, and, gürkan, described...   \n",
       "34883  [zafer, a, sailor, living, with, his, mother, ...   \n",
       "34884  [the, film, centres, around, a, young, woman, ...   \n",
       "34885  [the, writer, orhan, şahin, returns, to, i̇sta...   \n",
       "\n",
       "                               plot_tokenized_removed_sw  \\\n",
       "0      [bartender, working, saloon, serving, drinks, ...   \n",
       "1      [moon, painted, smiling, face, hangs, park, ni...   \n",
       "2      [film, minute, long, composed, two, shots, fir...   \n",
       "3      [lasting, seconds, consisting, two, shots, fir...   \n",
       "4      [earliest, known, adaptation, classic, fairyta...   \n",
       "...                                                  ...   \n",
       "34881  [film, begins, world, war, ended, centres, aro...   \n",
       "34882  [two, musicians, salih, gürkan, described, adv...   \n",
       "34883  [zafer, sailor, living, mother, döndü, coastal...   \n",
       "34884  [film, centres, around, young, woman, named, a...   \n",
       "34885  [writer, orhan, şahin, returns, i̇stanbul, man...   \n",
       "\n",
       "                                              plot_lemma  \n",
       "0      bartender working saloon serving drink custome...  \n",
       "1      moon painted smiling face hang park night youn...  \n",
       "2      film minute long composed two shot first girl ...  \n",
       "3      lasting second consisting two shot first shot ...  \n",
       "4      earliest known adaptation classic fairytale fi...  \n",
       "...                                                  ...  \n",
       "34881  film begin world war ended centre around joshu...  \n",
       "34882  two musician salih gürkan described adventure ...  \n",
       "34883  zafer sailor living mother döndü coastal villa...  \n",
       "34884  film centre around young woman named amy tyler...  \n",
       "34885  writer orhan şahin return i̇stanbul many year ...  \n",
       "\n",
       "[34886 rows x 13 columns]"
      ]
     },
     "execution_count": 35,
     "metadata": {},
     "output_type": "execute_result"
    }
   ],
   "source": [
    "df"
   ]
  },
  {
   "cell_type": "markdown",
   "id": "52dc27bc",
   "metadata": {},
   "source": [
    "### Selecting the dersired columns \n",
    "We are going to keep only the original Plot column and final cleanned plot column namely plot_lemma"
   ]
  },
  {
   "cell_type": "code",
   "execution_count": 36,
   "id": "5700e2f6",
   "metadata": {},
   "outputs": [
    {
     "data": {
      "text/plain": [
       "Index(['Release Year', 'Title', 'Origin/Ethnicity', 'Director', 'Cast',\n",
       "       'Genre', 'Wiki Page', 'Plot', 'Plot_1', 'plot_without_punct',\n",
       "       'plot_tokenized', 'plot_tokenized_removed_sw', 'plot_lemma'],\n",
       "      dtype='object')"
      ]
     },
     "execution_count": 36,
     "metadata": {},
     "output_type": "execute_result"
    }
   ],
   "source": [
    "df.columns"
   ]
  },
  {
   "cell_type": "code",
   "execution_count": 38,
   "id": "d4568edd",
   "metadata": {},
   "outputs": [],
   "source": [
    "df=df[['Release Year', 'Title', 'Origin/Ethnicity', 'Director', 'Cast',\n",
    "       'Genre', 'Wiki Page', 'Plot', 'plot_lemma']]"
   ]
  },
  {
   "cell_type": "markdown",
   "id": "7917aa72",
   "metadata": {},
   "source": [
    "Renaming the plot_lemma to plot cleanned for better understanding"
   ]
  },
  {
   "cell_type": "code",
   "execution_count": 39,
   "id": "de56b140",
   "metadata": {},
   "outputs": [],
   "source": [
    "df.rename(columns={'plot_lemma': 'Plot_cleanned'},inplace=True)"
   ]
  },
  {
   "cell_type": "markdown",
   "id": "1dd48bd9",
   "metadata": {},
   "source": [
    "# Saving the cleanned dataframe in .csv format"
   ]
  },
  {
   "cell_type": "code",
   "execution_count": 40,
   "id": "ce1fbf75",
   "metadata": {},
   "outputs": [],
   "source": [
    "df.to_csv('wiki_movie_plots_deduped_cleaned.csv',index=False)"
   ]
  },
  {
   "cell_type": "markdown",
   "id": "0e865b8e",
   "metadata": {},
   "source": [
    "# Summary\n",
    "\n",
    "You have learned how one can clean the data using the sklearn library and pandas. Additionally, you get to know how to use list comprehension for making your query small. We have stuided about the lemmetization, tokenization, stopwards, how to deal with them and how to remove punctuations and number using regression."
   ]
  },
  {
   "cell_type": "markdown",
   "id": "186faf1d",
   "metadata": {},
   "source": [
    "# What to do Next?\n",
    "\n",
    "Content-Based Movie Recommender:\n",
    "Recommend movies with plots similar to those that a user has rated highly.\n",
    "\n",
    "Movie Plot Generator:\n",
    "Generate a movie plot description based on seed input, such as director and genre\n",
    "\n",
    "Information Retrieval:\n",
    "Return a movie title based on an input plot description\n",
    "\n",
    "Text Classification:\n",
    "Predict movie genre based on plot description"
   ]
  },
  {
   "cell_type": "code",
   "execution_count": null,
   "id": "6a8f0492",
   "metadata": {},
   "outputs": [],
   "source": []
  },
  {
   "cell_type": "code",
   "execution_count": null,
   "id": "6557347b",
   "metadata": {},
   "outputs": [],
   "source": []
  },
  {
   "cell_type": "code",
   "execution_count": null,
   "id": "f82be472",
   "metadata": {},
   "outputs": [],
   "source": []
  },
  {
   "cell_type": "code",
   "execution_count": null,
   "id": "6f474b36",
   "metadata": {},
   "outputs": [],
   "source": []
  }
 ],
 "metadata": {
  "kernelspec": {
   "display_name": "Python 3",
   "language": "python",
   "name": "python3"
  },
  "language_info": {
   "codemirror_mode": {
    "name": "ipython",
    "version": 3
   },
   "file_extension": ".py",
   "mimetype": "text/x-python",
   "name": "python",
   "nbconvert_exporter": "python",
   "pygments_lexer": "ipython3",
   "version": "3.8.10"
  }
 },
 "nbformat": 4,
 "nbformat_minor": 5
}
